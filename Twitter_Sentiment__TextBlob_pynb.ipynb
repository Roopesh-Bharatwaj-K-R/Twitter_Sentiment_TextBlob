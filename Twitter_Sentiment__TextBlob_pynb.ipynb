{
  "nbformat": 4,
  "nbformat_minor": 0,
  "metadata": {
    "colab": {
      "name": "Twitter_Sentiment _TextBlob.pynb",
      "provenance": []
    },
    "kernelspec": {
      "name": "python3",
      "display_name": "Python 3"
    }
  },
  "cells": [
    {
      "cell_type": "markdown",
      "metadata": {
        "id": "pmfSns_TzYOC"
      },
      "source": [
        "Sentiment analysis using  Twitter tweets (API) Twillo and TextBlob\r\n",
        "\r\n",
        "TextBlob aims to provide access to common text-processing operations through a familiar interface. You can treat TextBlob objects as if they were Python strings that learned how to do Natural Language Processing.\r\n",
        "\r\n",
        "https://textblob.readthedocs.io/en/dev/quickstart.html"
      ]
    },
    {
      "cell_type": "markdown",
      "metadata": {
        "id": "bPtqxI4czSiJ"
      },
      "source": [
        "SENTIMENT  ANALYSIS REFERENCE:\r\n",
        "\r\n",
        "https://www.analyticsvidhya.com/blog/2018/02/natural-language-processing-for-beginners-using-textblob/#:~:text=The%20sentiment%20function%20of%20textblob,1%20means%20a%20negative%20statement.&text=Subjectivity%20is%20also%20a%20float,the%20sentiment%20of%20our%20blob.\r\n",
        "\r\n",
        "https://www.quora.com/How-does-sentiment-analysis-work-generally "
      ]
    },
    {
      "cell_type": "markdown",
      "metadata": {
        "id": "2susv0jOWSqd"
      },
      "source": [
        "Sentiment Analysis:\r\n",
        "\r\n",
        "Sentiment analysis is basically the process of determining the attitude or the emotion of the writer, i.e., whether it is positive or negative or neutral.\r\n",
        "\r\n",
        "The sentiment function of textblob returns two properties, polarity, and subjectivity.\r\n",
        "\r\n",
        "Polarity is float which lies in the range of [-1,1] where 1 means positive statement and -1 means a negative statement. Subjective sentences generally refer to personal opinion, emotion or judgment whereas objective refers to factual information. Subjectivity is also a float which lies in the range of [0,1]."
      ]
    },
    {
      "cell_type": "code",
      "metadata": {
        "id": "jpdTs_KdTp33"
      },
      "source": [
        "#pip install tweepy\r\n"
      ],
      "execution_count": 15,
      "outputs": []
    },
    {
      "cell_type": "code",
      "metadata": {
        "id": "ytYj7XIET9Z9"
      },
      "source": [
        "#pip install textblob"
      ],
      "execution_count": 16,
      "outputs": []
    },
    {
      "cell_type": "code",
      "metadata": {
        "colab": {
          "base_uri": "https://localhost:8080/"
        },
        "id": "lN99vLQGVOZO",
        "outputId": "95252f2a-8477-435a-f8be-ca9e5fc10b3c"
      },
      "source": [
        "import nltk\r\n",
        "nltk.download('punkt')"
      ],
      "execution_count": 17,
      "outputs": [
        {
          "output_type": "stream",
          "text": [
            "[nltk_data] Downloading package punkt to /root/nltk_data...\n",
            "[nltk_data]   Package punkt is already up-to-date!\n"
          ],
          "name": "stdout"
        },
        {
          "output_type": "execute_result",
          "data": {
            "text/plain": [
              "True"
            ]
          },
          "metadata": {
            "tags": []
          },
          "execution_count": 17
        }
      ]
    },
    {
      "cell_type": "code",
      "metadata": {
        "colab": {
          "base_uri": "https://localhost:8080/"
        },
        "id": "WaK8TfQAUCuU",
        "outputId": "86b54ca0-cb5a-4a2a-a752-572786098c89"
      },
      "source": [
        "from textblob import TextBlob\r\n",
        "#python -m textblob.download_corpora\r\n",
        "text = TextBlob( \"Hello Roopesh, Welcome to the Twitter Sentiment Analyis\" )\r\n",
        "text.words\r\n",
        "#text.tags\r\n",
        "text.sentiment.polarity # between -1 to 1"
      ],
      "execution_count": 53,
      "outputs": [
        {
          "output_type": "execute_result",
          "data": {
            "text/plain": [
              "0.8"
            ]
          },
          "metadata": {
            "tags": []
          },
          "execution_count": 53
        }
      ]
    },
    {
      "cell_type": "code",
      "metadata": {
        "id": "US1m21VEyvzv"
      },
      "source": [
        "import tweepy"
      ],
      "execution_count": 38,
      "outputs": []
    },
    {
      "cell_type": "code",
      "metadata": {
        "id": "Nd4w_m5X14eQ"
      },
      "source": [
        "customer_key = 'wJACTnsZE6NFxGBBBRnQUNL0kqrp'\r\n",
        "\r\n",
        "customer_secret = 'F0KARLELgevzj7YOQNnNRBBww7dXs9r0o0nzNhyLQQmDT47uR4LG'\r\n",
        "\r\n",
        "access_token = '1354412734054617088BB-f1gk0AnEYO67wWEMnzGlFU2SaqivHq'\r\n",
        "\r\n",
        "access_token_secret = 'M5FQyhl2BpBBjhoc9WAxfGubGiWeyp9udv6ApvbIHgbMROy'"
      ],
      "execution_count": 40,
      "outputs": []
    },
    {
      "cell_type": "code",
      "metadata": {
        "id": "Klwcvmmw4enq"
      },
      "source": [
        "auth = tweepy.OAuthHandler(customer_key, customer_secret)\r\n",
        "auth.set_access_token(access_token, access_token_secret)\r\n",
        "\r\n",
        "api = tweepy.API(auth)"
      ],
      "execution_count": 41,
      "outputs": []
    },
    {
      "cell_type": "code",
      "metadata": {
        "id": "-gf2lMSh8t0e"
      },
      "source": [
        "# Fetch Tweets\r\n",
        "public_tweets = api.search('TRUMP')\r\n"
      ],
      "execution_count": 80,
      "outputs": []
    },
    {
      "cell_type": "code",
      "metadata": {
        "colab": {
          "base_uri": "https://localhost:8080/"
        },
        "id": "7YYcwEoH80UY",
        "outputId": "d59b5db2-e482-49df-bc41-e82622edf07d"
      },
      "source": [
        "for tweet in public_tweets:\r\n",
        "    print(tweet.text)"
      ],
      "execution_count": 81,
      "outputs": [
        {
          "output_type": "stream",
          "text": [
            "RT @DesignationSix: Liars from the Trump admin are moving to Fox News. Not only does @Disney and @hulu advertise on Fox News but so does @P…\n",
            "@jarednaiduworld I relate to Trump more than ever 🤣\n",
            "RT @B52Malmet: Joe Biden has Champ and Major as pets. Donald Trump has Kevin McCarthy and Lindsey Graham.\n",
            "RT @SteveSchmidtSES: I have written a prayer “Dear God, please let it be the case that our lawyers see what I see.  May we soon be on our w…\n",
            "RT @magicmike118: @IlhanMN @chiproytx @tedcruz @AOC The Capitol Police Union reported 140 officers were injured on Jan 6, including severe…\n",
            "RT @MartinDaubney: Imagine if Trump had done any of these things:\n",
            "\n",
            "1. Banned export of COVID vaccine to countries outside of USA\n",
            "2. Threate…\n",
            "RT @AntonioSabatojr: I am back from Twitter jail do you think I’m gonna stop now I’m gonna keep telling you guys President Trump is my pres…\n",
            "RT @TheLastUprisin1: @PaulSorrentino3 @mobygrapefan 100% #Facts This is literally all Biden is: smiles &amp; platitudes to make Trump's #HerdIm…\n",
            "RT @SethAbramson: MAJOR BREAKING NEWS: Ex-KGB Source Tells Leading American Author That Russia Cultivated Trump As An Asset for 40 Years\n",
            "ht…\n",
            "@NHWharfRat @EricLiptonNYT @yashar @katierogers Whole lotta people out of work just now due to the \"Trump White Hou… https://t.co/i7fHsyLMpV\n",
            "https://t.co/KTQuNc1iMq\n",
            "RT @gtconway3d: “In 1987, Trump and Ivana visited Moscow and St Petersburg for the first time. ‘For the KGB, it was a charm offensive. ...…\n"
          ],
          "name": "stdout"
        }
      ]
    },
    {
      "cell_type": "code",
      "metadata": {
        "colab": {
          "base_uri": "https://localhost:8080/"
        },
        "id": "3AGH-X869k3x",
        "outputId": "65957784-9dd0-452c-bd92-6f099cbf9056"
      },
      "source": [
        "analysis = TextBlob(tweet.text)\r\n",
        "print(analysis.sentiment)\r\n",
        "print(\"\")"
      ],
      "execution_count": 82,
      "outputs": [
        {
          "output_type": "stream",
          "text": [
            "Sentiment(polarity=0.25, subjectivity=0.3333333333333333)\n",
            "\n"
          ],
          "name": "stdout"
        }
      ]
    }
  ]
}